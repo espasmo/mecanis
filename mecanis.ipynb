{
  "nbformat": 4,
  "nbformat_minor": 0,
  "metadata": {
    "colab": {
      "provenance": [],
      "collapsed_sections": []
    },
    "kernelspec": {
      "name": "python3",
      "display_name": "Python 3"
    },
    "language_info": {
      "name": "python"
    }
  },
  "cells": [
    {
      "cell_type": "code",
      "execution_count": 12,
      "metadata": {
        "id": "KnrDOZo760bM"
      },
      "outputs": [],
      "source": [
        "from bs4 import BeautifulSoup\n",
        "import requests\n",
        "from spacy.lang.en import English\n",
        "nlp = English()"
      ]
    },
    {
      "cell_type": "code",
      "source": [
        "BASE_URL = [\n",
        "'https://thenewstack.io/can-we-teach-an-ai-to-play-dungeons-and-dragons/',\n",
        "'https://medium.com/analytics-vidhya/a-discord-bot-for-dungeons-and-dragons-part-1-f967561ad73e',\n",
        "'https://expmag.com/2020/03/i-slayed-dragons-with-an-ai-powered-dungeon-master/',\n",
        "'https://developer.mantiumai.com/docs/securing-a-dungeons-and-dragons-assistant',\n",
        "'http://www.viviancook.uk/Writings/Papers/System86.htm'\n",
        "]"
      ],
      "metadata": {
        "id": "1ifAUDz1fSCX"
      },
      "execution_count": 13,
      "outputs": []
    },
    {
      "cell_type": "code",
      "source": [
        "output = ''\n",
        "base_text = []\n",
        "for url in BASE_URL:\n",
        "  res = requests.get(url)\n",
        "  html_page = res.content\n",
        "  soup = BeautifulSoup(html_page, 'html.parser')\n",
        "  text = soup.find_all(text=True)\n",
        "  for data in soup.find_all(\"p\"):\n",
        "    temp = str(data.get_text())\n",
        "    base_text.append(temp)\n",
        "base_text = [element.split(\".\") for element in base_text]\n",
        "base_text = [item for sublist in base_text for item in sublist]\n",
        "print(len(base_text))"
      ],
      "metadata": {
        "colab": {
          "base_uri": "https://localhost:8080/"
        },
        "id": "Sruc61wqjzSm",
        "outputId": "2f120566-234c-41be-e078-184042c0ec2e"
      },
      "execution_count": 15,
      "outputs": [
        {
          "output_type": "stream",
          "name": "stdout",
          "text": [
            "782\n"
          ]
        }
      ]
    }
  ]
}